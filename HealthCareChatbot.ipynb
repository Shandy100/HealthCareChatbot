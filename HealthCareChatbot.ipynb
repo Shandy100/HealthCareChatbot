{
  "nbformat": 4,
  "nbformat_minor": 0,
  "metadata": {
    "colab": {
      "name": "Untitled1.ipynb",
      "provenance": [],
      "authorship_tag": "ABX9TyPXOLYWOBYoto/08DJM2Bmx",
      "include_colab_link": true
    },
    "kernelspec": {
      "name": "python3",
      "display_name": "Python 3"
    }
  },
  "cells": [
    {
      "cell_type": "markdown",
      "metadata": {
        "id": "view-in-github",
        "colab_type": "text"
      },
      "source": [
        "<a href=\"https://colab.research.google.com/github/Shandy100/HealthCareChatbot/blob/main/HealthCareChatbot.ipynb\" target=\"_parent\"><img src=\"https://colab.research.google.com/assets/colab-badge.svg\" alt=\"Open In Colab\"/></a>"
      ]
    },
    {
      "cell_type": "code",
      "metadata": {
        "id": "FcG6gj3UvmHe"
      },
      "source": [
        "import numpy as np\n",
        "import pandas as pd\n",
        "from sklearn import preprocessing\n",
        "from sklearn.tree import DecisionTreeClassifier,_tree\n",
        "from sklearn.model_selection import train_test_split\n",
        "from sklearn import model_selection\n",
        "from sklearn.tree import export_graphviz\n",
        "import nltk\n",
        "import spacy\n",
        "from spacy import displacy\n",
        "import warnings\n",
        "warnings.filterwarnings(\"ignore\", category=DeprecationWarning)"
      ],
      "execution_count": 1,
      "outputs": []
    },
    {
      "cell_type": "code",
      "metadata": {
        "id": "tqlCuy1FvoPi",
        "outputId": "4b093383-b00a-4a2c-a9f6-5ce711f6e044",
        "colab": {
          "base_uri": "https://localhost:8080/"
        }
      },
      "source": [
        "training = pd.read_csv('Training.csv')\n",
        "testing  = pd.read_csv('Testing.csv')\n",
        "cols     = training.columns\n",
        "cols     = cols[:-1]\n",
        "x        = training[cols]\n",
        "y        = training['prognosis']\n",
        "y1       = y\n",
        "\n",
        "reduced_data = training.groupby(training['prognosis']).max()\n",
        "\n",
        "le = preprocessing.LabelEncoder()\n",
        "le.fit(y)\n",
        "y = le.transform(y)\n",
        "\n",
        "\n",
        "x_train, x_test, y_train, y_test = train_test_split(x, y, test_size=0.30, random_state=42)\n",
        "testx    = testing[cols]\n",
        "testy    = testing['prognosis']  \n",
        "\n",
        "\n",
        "\n",
        "clf1  = DecisionTreeClassifier()\n",
        "clf = clf1.fit(x_train,y_train)\n",
        "\n",
        "importances = clf.feature_importances_\n",
        "indices = np.argsort(importances)[::-1]\n",
        "features = cols\n",
        "\n",
        "print(\"Hey there! reply Yes or No for the following symptoms\") \n",
        "def print_disease(node):\n",
        "    node = node[0]\n",
        "    val  = node.nonzero() \n",
        "    disease = le.inverse_transform(val[0])\n",
        "    return disease\n",
        "def tree_to_code(tree, feature_names):\n",
        "    tree_ = tree.tree_\n",
        "    feature_name = [\n",
        "        feature_names[i] if i != _tree.TREE_UNDEFINED else \"undefined!\"\n",
        "        for i in tree_.feature\n",
        "    ]\n",
        "    symptoms_present = []\n",
        "    def recurse(node, depth):\n",
        "        indent = \"  \" * depth\n",
        "        if tree_.feature[node] != _tree.TREE_UNDEFINED:\n",
        "            name = feature_name[node]\n",
        "            threshold = tree_.threshold[node]\n",
        "            print(name + \" ?\")\n",
        "            ans = input()\n",
        "            ans = ans.lower()\n",
        "            if ans == 'yes':\n",
        "                val = 1\n",
        "            else:\n",
        "                val = 0\n",
        "            if  val <= threshold:\n",
        "                recurse(tree_.children_left[node], depth + 1)\n",
        "            else:\n",
        "                symptoms_present.append(name)\n",
        "                recurse(tree_.children_right[node], depth + 1)\n",
        "        else:\n",
        "            present_disease = print_disease(tree_.value[node])\n",
        "            print( \"You may have \" +  present_disease )\n",
        "            red_cols = reduced_data.columns \n",
        "            symptoms_given = red_cols[reduced_data.loc[present_disease].values[0].nonzero()]\n",
        "            print(\"symptoms present  \" + str(list(symptoms_present)))\n",
        "            print(\"symptoms given \"  +  str(list(symptoms_given)) )  \n",
        "            confidence_level = (1.0*len(symptoms_present))/len(symptoms_given)\n",
        "            print(\"confidence level : \" + str(confidence_level))\n",
        "\n",
        "    recurse(0, 1)\n",
        "\n",
        "tree_to_code(clf,cols)\n"
      ],
      "execution_count": 2,
      "outputs": [
        {
          "output_type": "stream",
          "text": [
            "Hey there! reply Yes or No for the following symptoms\n",
            "headache ?\n",
            "yes\n",
            "fatigue ?\n",
            "yes\n",
            "mild_fever ?\n",
            "no\n",
            "frequent_urination ?\n",
            "no\n",
            "diarrhoea ?\n",
            "no\n",
            "['You may have Chicken pox']\n",
            "symptoms present  ['headache', 'fatigue']\n",
            "symptoms given ['fatigue', 'high_fever', 'headache', 'mild_fever']\n",
            "confidence level : 0.5\n"
          ],
          "name": "stdout"
        }
      ]
    }
  ]
}